{
 "cells": [
  {
   "cell_type": "markdown",
   "id": "a520bdd3",
   "metadata": {},
   "source": [
    "문제 설명\n",
    "정수를 저장한 배열, arr 에서 가장 작은 수를 제거한 배열을 리턴하는 함수, solution을 완성해주세요. 단, 리턴하려는 배열이 빈 배열인 경우엔 배열에 -1을 채워 리턴하세요. 예를들어 arr이 [4,3,2,1]인 경우는 [4,3,2]를 리턴 하고, [10]면 [-1]을 리턴 합니다.\n",
    "\n",
    "제한 조건\n",
    "arr은 길이 1 이상인 배열입니다.\n",
    "인덱스 i, j에 대해 i ≠ j이면 arr[i] ≠ arr[j] 입니다.\n",
    "입출력 예\n",
    "arr\treturn\n",
    "[4,3,2,1]\t[4,3,2]\n",
    "[10]\t[-1]"
   ]
  },
  {
   "cell_type": "code",
   "execution_count": 44,
   "id": "63577506",
   "metadata": {},
   "outputs": [],
   "source": [
    "def solution1(arr):\n",
    "    if len(arr) == 1:\n",
    "        answer = [-1]\n",
    "    else:\n",
    "        arr.remove(min(arr))\n",
    "        answer = [i for i in arr]\n",
    "    return arr"
   ]
  },
  {
   "cell_type": "markdown",
   "id": "9a77b1c2",
   "metadata": {},
   "source": [
    "네오와 프로도가 숫자놀이를 하고 있습니다. 네오가 프로도에게 숫자를 건넬 때 일부 자릿수를 영단어로 바꾼 카드를 건네주면 프로도는 원래 숫자를 찾는 게임입니다.\n",
    "\n",
    "다음은 숫자의 일부 자릿수를 영단어로 바꾸는 예시입니다.\n",
    "\n",
    "1478 → \"one4seveneight\"\n",
    "234567 → \"23four5six7\"\n",
    "10203 → \"1zerotwozero3\"\n",
    "이렇게 숫자의 일부 자릿수가 영단어로 바뀌어졌거나, 혹은 바뀌지 않고 그대로인 문자열 s가 매개변수로 주어집니다. s가 의미하는 원래 숫자를 return 하도록 solution 함수를 완성해주세요.\n",
    "\n",
    "참고로 각 숫자에 대응되는 영단어는 다음 표와 같습니다.\n",
    "\n",
    "숫자\t영단어\n",
    "0\tzero\n",
    "1\tone\n",
    "2\ttwo\n",
    "3\tthree\n",
    "4\tfour\n",
    "5\tfive\n",
    "6\tsix\n",
    "7\tseven\n",
    "8\teight\n",
    "9\tnine\n",
    "제한사항\n",
    "1 ≤ s의 길이 ≤ 50\n",
    "s가 \"zero\" 또는 \"0\"으로 시작하는 경우는 주어지지 않습니다.\n",
    "return 값이 1 이상 2,000,000,000 이하의 정수가 되는 올바른 입력만 s로 주어집니다.\n",
    "입출력 예\n",
    "s\tresult\n",
    "\"one4seveneight\"\t1478\n",
    "\"23four5six7\"\t234567\n",
    "\"2three45sixseven\"\t234567\n",
    "\"123\"\t123\n",
    "입출력 예 설명\n",
    "입출력 예 #1\n",
    "\n",
    "문제 예시와 같습니다.\n",
    "입출력 예 #2\n",
    "\n",
    "문제 예시와 같습니다.\n",
    "입출력 예 #3\n",
    "\n",
    "\"three\"는 3, \"six\"는 6, \"seven\"은 7에 대응되기 때문에 정답은 입출력 예 #2와 같은 234567이 됩니다.\n",
    "입출력 예 #2와 #3과 같이 같은 정답을 가리키는 문자열이 여러 가지가 나올 수 있습니다.\n",
    "입출력 예 #4\n",
    "\n",
    "s에는 영단어로 바뀐 부분이 없습니다.\n",
    "제한시간 안내\n",
    "정확성 테스트 : 10초"
   ]
  },
  {
   "cell_type": "code",
   "execution_count": 45,
   "id": "5fe14299",
   "metadata": {},
   "outputs": [],
   "source": [
    "def solution2(s):\n",
    "    num_dict = {'0':'zero', '1':'one', '2':'two', '3':'three',\n",
    "               '4':'four','5':'five','6':'six', '7':'seven', '8':'eight',\n",
    "               '9':'nine'}\n",
    "    for index, value in num_dict.items():\n",
    "        s = s.replace(value, index)\n",
    "        \n",
    "    return int(s)"
   ]
  },
  {
   "cell_type": "code",
   "execution_count": 46,
   "id": "ab2c268f",
   "metadata": {},
   "outputs": [
    {
     "name": "stdout",
     "output_type": "stream",
     "text": [
      "[4, 3, 2]\n",
      "[10]\n",
      "1478\n",
      "234567\n",
      "234567\n",
      "123\n"
     ]
    }
   ],
   "source": [
    "print(solution1([4,3,2,1]))\n",
    "print(solution1([10]))\n",
    "\n",
    "print(solution2('one4seveneight'))\n",
    "print(solution2('23four5six7'))\n",
    "print(solution2('2three45sixseven'))\n",
    "print(solution2('123'))"
   ]
  },
  {
   "cell_type": "code",
   "execution_count": null,
   "id": "22c3db47",
   "metadata": {},
   "outputs": [],
   "source": []
  }
 ],
 "metadata": {
  "kernelspec": {
   "display_name": "model-tutorial",
   "language": "python",
   "name": "model-tutorial"
  },
  "language_info": {
   "codemirror_mode": {
    "name": "ipython",
    "version": 3
   },
   "file_extension": ".py",
   "mimetype": "text/x-python",
   "name": "python",
   "nbconvert_exporter": "python",
   "pygments_lexer": "ipython3",
   "version": "3.8.13"
  }
 },
 "nbformat": 4,
 "nbformat_minor": 5
}
